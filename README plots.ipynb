{
 "cells": [
  {
   "cell_type": "code",
   "execution_count": null,
   "id": "aabc6e85-ced8-4b31-be52-8e8423317991",
   "metadata": {},
   "outputs": [],
   "source": [
    "import bornly as bns\n",
    "\n",
    "fmri = bns.load_dataset(\"fmri\")\n",
    "fig = bns.lineplot(data=fmri, x='timepoint', y='signal', hue='event')"
   ]
  },
  {
   "cell_type": "code",
   "execution_count": null,
   "id": "fd08c2d2-8087-4a08-a219-324bff9396ca",
   "metadata": {},
   "outputs": [],
   "source": [
    "fig"
   ]
  },
  {
   "cell_type": "code",
   "execution_count": null,
   "id": "e4962161-7b34-4c4a-a8b4-516f900e1cb1",
   "metadata": {},
   "outputs": [],
   "source": [
    "diamonds = bns.load_dataset(\"diamonds\")\n",
    "bns.scatterplot(x=\"carat\", y=\"price\",\n",
    "                hue=\"clarity\", size=\"depth\",\n",
    "                palette=\"ch:r=-.2,d=.3_r\",\n",
    "                sizes=(1, 8),\n",
    "                data=diamonds)"
   ]
  },
  {
   "cell_type": "code",
   "execution_count": null,
   "id": "8bb0cb83-842a-4902-9ec0-381e0349a6e5",
   "metadata": {},
   "outputs": [],
   "source": [
    "from string import ascii_letters\n",
    "import numpy as np\n",
    "import pandas as pd\n",
    "import bornly as bns\n",
    "import matplotlib.pyplot as plt\n",
    "\n",
    "# Generate a large random dataset\n",
    "rs = np.random.RandomState(33)\n",
    "d = pd.DataFrame(data=rs.normal(size=(100, 26)),\n",
    "                 columns=list(ascii_letters[26:]))\n",
    "# Compute the correlation matrix\n",
    "corr = d.corr()\n",
    "# Generate a mask for the upper triangle\n",
    "mask = np.triu(np.ones_like(corr, dtype=bool))\n",
    "# Generate a custom diverging colormap\n",
    "cmap = bns.diverging_palette(230, 20, as_cmap=True)\n",
    "# Draw the heatmap with the mask and correct aspect ratio\n",
    "bns.heatmap(corr, mask=mask, cmap=cmap, vmax=.3, center=0)"
   ]
  },
  {
   "cell_type": "code",
   "execution_count": null,
   "id": "6020bc5b-1de0-40c8-9079-85ec784a9a79",
   "metadata": {},
   "outputs": [],
   "source": [
    "iris = bns.load_dataset(\"iris\")\n",
    "bns.kdeplot(data=iris)"
   ]
  },
  {
   "cell_type": "code",
   "execution_count": null,
   "id": "bdcb7273-4c3e-4a3c-89ad-391e618c839a",
   "metadata": {},
   "outputs": [],
   "source": [
    "tips = bns.load_dataset(\"tips\")\n",
    "bns.barplot(x=\"day\", y=\"total_bill\", data=tips, hue='time')"
   ]
  },
  {
   "cell_type": "code",
   "execution_count": null,
   "id": "c4c019b2-6403-4bef-9dfc-4e8848c8e352",
   "metadata": {},
   "outputs": [],
   "source": [
    "import bornly as bns\n",
    "\n",
    "penguins = bns.load_dataset(\"penguins\")\n",
    "bns.pairplot(penguins, hue=\"species\")"
   ]
  },
  {
   "cell_type": "code",
   "execution_count": null,
   "id": "ecd7cfec-fad1-441f-a14a-721622b80dce",
   "metadata": {},
   "outputs": [],
   "source": [
    "import bornly as bns\n",
    "\n",
    "penguins = bns.load_dataset(\"penguins\")\n",
    "\n",
    "bns.histplot(data=penguins, x=\"flipper_length_mm\", hue='species', kde=False)"
   ]
  },
  {
   "cell_type": "code",
   "execution_count": null,
   "id": "f0e67b90-3b4a-430f-a17e-94605b4d815d",
   "metadata": {},
   "outputs": [],
   "source": []
  }
 ],
 "metadata": {
  "kernelspec": {
   "display_name": "solaredge",
   "language": "python",
   "name": "solaredge"
  },
  "language_info": {
   "codemirror_mode": {
    "name": "ipython",
    "version": 3
   },
   "file_extension": ".py",
   "mimetype": "text/x-python",
   "name": "python",
   "nbconvert_exporter": "python",
   "pygments_lexer": "ipython3",
   "version": "3.8.10"
  }
 },
 "nbformat": 4,
 "nbformat_minor": 5
}
